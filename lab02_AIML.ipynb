{
  "nbformat": 4,
  "nbformat_minor": 0,
  "metadata": {
    "colab": {
      "provenance": [],
      "authorship_tag": "ABX9TyMm3xxCkara6C3iyf6vAapF",
      "include_colab_link": true
    },
    "kernelspec": {
      "name": "python3",
      "display_name": "Python 3"
    },
    "language_info": {
      "name": "python"
    }
  },
  "cells": [
    {
      "cell_type": "markdown",
      "metadata": {
        "id": "view-in-github",
        "colab_type": "text"
      },
      "source": [
        "<a href=\"https://colab.research.google.com/github/2303a52192/AIML_2303A52192/blob/main/lab02_AIML.ipynb\" target=\"_parent\"><img src=\"https://colab.research.google.com/assets/colab-badge.svg\" alt=\"Open In Colab\"/></a>"
      ]
    },
    {
      "cell_type": "markdown",
      "source": [
        "Part 1 – Implement Breadth First Search Algorithm using a Queue"
      ],
      "metadata": {
        "id": "aoy2kmOhBpGx"
      }
    },
    {
      "cell_type": "code",
      "source": [
        "from queue import Queue\n",
        "graph={\n",
        "    '0':['1','3'],'1':['0','2','3'],'2':['1','4','5'],'3':['0','1','4'],'4':['2','3','5'],'5':['2','4']\n",
        "}\n",
        "print(\"Adjacent nodes of a diagram are\",graph)"
      ],
      "metadata": {
        "colab": {
          "base_uri": "https://localhost:8080/"
        },
        "id": "X6L27qLZBqtn",
        "outputId": "c1dd53c7-e7e9-4b5a-835f-765a2b9a8e11"
      },
      "execution_count": null,
      "outputs": [
        {
          "output_type": "stream",
          "name": "stdout",
          "text": [
            "Adjacent nodes of a diagram are {'0': ['1', '3'], '1': ['0', '2', '3'], '2': ['1', '4', '5'], '3': ['0', '1', '4'], '4': ['2', '3', '5'], '5': ['2', '4']}\n"
          ]
        }
      ]
    },
    {
      "cell_type": "code",
      "source": [
        "visited=[]\n",
        "queue=[]"
      ],
      "metadata": {
        "id": "5w8KyQEMDrm5"
      },
      "execution_count": null,
      "outputs": []
    },
    {
      "cell_type": "code",
      "source": [
        "def bfs(visited,graph,node):\n",
        "  visited.append(node)\n",
        "  queue.append(node)\n",
        "  while queue:\n",
        "    m=queue.pop(0)\n",
        "    print(m,end=\" \")\n",
        "    for neighbour in graph[m]:\n",
        "      if neighbour not in visited:\n",
        "        visited.append(neighbour)\n",
        "        queue.append(neighbour)\n",
        "print(\"Following is Breadth_First_Search\")\n",
        "bfs(visited,graph,'0')"
      ],
      "metadata": {
        "colab": {
          "base_uri": "https://localhost:8080/"
        },
        "id": "-wdInZQJDvUH",
        "outputId": "085b0bba-1ac2-4db1-caf8-c10172b63ba0"
      },
      "execution_count": null,
      "outputs": [
        {
          "output_type": "stream",
          "name": "stdout",
          "text": [
            "Following is Breadth_First_Search\n",
            "0 1 3 2 4 5 "
          ]
        }
      ]
    },
    {
      "cell_type": "markdown",
      "source": [
        " Depth First Search Algorithm using a Stack"
      ],
      "metadata": {
        "id": "9vvig_PXHXTD"
      }
    },
    {
      "cell_type": "code",
      "source": [
        "graph={\n",
        "    'A':['B','S'],'B':['A'],'C':['D','S','E','F'],'D':['C'],'E':['C','H'],'F':['C','G'],'G':['S','F','H'],'H':['G','E'],'S':['A','C','G']\n",
        "}\n",
        "print(\"Adjacent nodes of a diagram are\",graph)"
      ],
      "metadata": {
        "colab": {
          "base_uri": "https://localhost:8080/"
        },
        "id": "xaKNG4c7Hc-6",
        "outputId": "f775b112-9e5b-4173-9035-30faf1b6ad06"
      },
      "execution_count": null,
      "outputs": [
        {
          "output_type": "stream",
          "name": "stdout",
          "text": [
            "Adjacent nodes of a diagram are {'A': ['B', 'S'], 'B': ['A'], 'C': ['D', 'S', 'E', 'F'], 'D': ['C'], 'E': ['C', 'H'], 'F': ['C', 'G'], 'G': ['S', 'F', 'H'], 'H': ['G', 'E'], 'S': ['A', 'C', 'G']}\n"
          ]
        }
      ]
    },
    {
      "cell_type": "code",
      "source": [
        "visited=set()"
      ],
      "metadata": {
        "id": "iGPQ13NsIkxl"
      },
      "execution_count": null,
      "outputs": []
    },
    {
      "cell_type": "code",
      "source": [
        "def dfs(visited,graph,node):\n",
        "  if node not in visited:\n",
        "    print(node)\n",
        "    visited.add(node)\n",
        "    for neighbour in graph[node]:\n",
        "      dfs(visited,graph,neighbour)\n",
        "print(\"Following is the Depth_First_Search\")\n",
        "dfs(visited,graph,'A')"
      ],
      "metadata": {
        "colab": {
          "base_uri": "https://localhost:8080/"
        },
        "id": "Ai8_dAlDIono",
        "outputId": "037d48a5-b02d-4267-e168-fefab5c3289c"
      },
      "execution_count": null,
      "outputs": [
        {
          "output_type": "stream",
          "name": "stdout",
          "text": [
            "Following is the Depth_First_Search\n",
            "A\n",
            "B\n",
            "S\n",
            "C\n",
            "D\n",
            "E\n",
            "H\n",
            "G\n",
            "F\n"
          ]
        }
      ]
    },
    {
      "cell_type": "markdown",
      "source": [
        "Implementation of A* Algorithm / OR Graph Search"
      ],
      "metadata": {
        "id": "RMCIIYrrQ4DM"
      }
    },
    {
      "cell_type": "code",
      "source": [
        "from copy import deepcopy\n",
        "import numpy as np\n",
        "import time\n",
        "\n",
        "def bestsolution(state):\n",
        "    bestsol = np.array([], int).reshape(-1, 9)\n",
        "    count = len(state) - 1\n",
        "    while count != -1:\n",
        "        bestsol = np.insert(bestsol, 0, state[count]['puzzle'], 0)\n",
        "        count = (state[count]['parent'])\n",
        "    return bestsol.reshape(-1, 3, 3)\n",
        "\n",
        "\n",
        "\n",
        "def all(checkarray):\n",
        "    set=[]\n",
        "    for it in set:\n",
        "        for checkarray in it:\n",
        "            return 1\n",
        "        else:\n",
        "            return 0\n",
        "def misplaced_tiles(puzzle,goal):\n",
        "    mscost = np.sum(puzzle != goal) - 1\n",
        "    return mscost if mscost > 0 else 0\n",
        "\n",
        "\n",
        "def coordinates(puzzle):\n",
        "    pos = np.array(range(9))\n",
        "    for p, q in enumerate(puzzle):\n",
        "        pos[q] = p\n",
        "    return pos\n",
        "\n",
        "def evaluvate_misplaced(puzzle, goal):\n",
        "    steps = np.array([('up', [0, 1, 2], -3),('down', [6, 7, 8],  3),('left', [0, 3, 6], -1),('right', [2, 5, 8],  1)],\n",
        "                dtype =  [('move',  str, 1),('position', list),('head', int)])\n",
        "\n",
        "    dtstate = [('puzzle',  list),('parent', int),('gn',  int),('hn',  int)]\n",
        "\n",
        "    costg = coordinates(goal)\n",
        "    parent = -1\n",
        "    gn = 0\n",
        "    hn = misplaced_tiles(coordinates(puzzle), costg)\n",
        "    state = np.array([(puzzle, parent, gn, hn)], dtstate)\n",
        "\n",
        "    dtpriority = [('position', int),('fn', int)]\n",
        "\n",
        "    priority = np.array([(0, hn)], dtpriority)\n",
        "\n",
        "    while 1:\n",
        "        priority = np.sort(priority, kind='mergesort', order=['fn', 'position'])\n",
        "        position, fn = priority[0]\n",
        "\n",
        "        priority = np.delete(priority, 0, 0)\n",
        "        puzzle, parent, gn, hn = state[position]\n",
        "        puzzle = np.array(puzzle)\n",
        "\n",
        "        blank = int(np.where(puzzle == 0)[0][0])\n",
        "\n",
        "        gn = gn + 1\n",
        "        c = 1\n",
        "        start_time = time.time()\n",
        "        for s in steps:\n",
        "            c = c + 1\n",
        "            if blank not in s['position']:\n",
        "                openstates = deepcopy(puzzle)\n",
        "                openstates[blank], openstates[blank + s['head']] = openstates[blank + s['head']], openstates[blank]\n",
        "\n",
        "                if ~(np.all(list(state['puzzle']) == openstates, 1)).any():\n",
        "                    end_time = time.time()\n",
        "                    if (( end_time - start_time ) > 2):\n",
        "                        print(\" The 8 puzzle is unsolvable \\n\")\n",
        "                        break\n",
        "\n",
        "                    hn = misplaced_tiles(coordinates(openstates), costg)\n",
        "\n",
        "                    q = np.array([(openstates, position, gn, hn)], dtstate)\n",
        "                    state = np.append(state, q, 0)\n",
        "\n",
        "                    fn = gn + hn\n",
        "\n",
        "                    q = np.array([(len(state) - 1, fn)], dtpriority)\n",
        "                    priority = np.append(priority, q, 0)\n",
        "\n",
        "                    if np.array_equal(openstates, goal):\n",
        "                        print(' The 8 puzzle is solvable \\n')\n",
        "                        return state, len(priority)\n",
        "\n",
        "    return state, len(priority)\n",
        "\n",
        "\n",
        "\n",
        "puzzle = []\n",
        "\n",
        "puzzle.append(2)\n",
        "puzzle.append(8)\n",
        "puzzle.append(3)\n",
        "puzzle.append(7)\n",
        "puzzle.append(1)\n",
        "puzzle.append(4)\n",
        "puzzle.append(0)\n",
        "puzzle.append(6)\n",
        "puzzle.append(5)\n",
        "goal = []\n",
        "\n",
        "goal.append(1)\n",
        "goal.append(2)\n",
        "goal.append(3)\n",
        "goal.append(8)\n",
        "goal.append(0)\n",
        "goal.append(4)\n",
        "goal.append(7)\n",
        "goal.append(6)\n",
        "goal.append(5)\n",
        "\n",
        "\n",
        "state, visited = evaluvate_misplaced(puzzle, goal)\n",
        "bestpath = bestsolution(state)\n",
        "print(str(bestpath).replace('[', ' ').replace(']', ''))\n",
        "totalmoves = len(bestpath) - 1\n",
        "print('\\nSteps to reach goal:',totalmoves)\n",
        "visit = len(state) - visited\n",
        "print('Total nodes visited: ',visit, \"\\n\")"
      ],
      "metadata": {
        "colab": {
          "base_uri": "https://localhost:8080/"
        },
        "id": "3x4zTduVQ-Hp",
        "outputId": "43b8f5e9-e597-414d-9a24-9b8fef09be56"
      },
      "execution_count": 2,
      "outputs": [
        {
          "output_type": "stream",
          "name": "stdout",
          "text": [
            " The 8 puzzle is solvable \n",
            "\n",
            "   2 8 3\n",
            "   7 1 4\n",
            "   0 6 5\n",
            "\n",
            "   2 8 3\n",
            "   0 1 4\n",
            "   7 6 5\n",
            "\n",
            "   2 8 3\n",
            "   1 0 4\n",
            "   7 6 5\n",
            "\n",
            "   2 0 3\n",
            "   1 8 4\n",
            "   7 6 5\n",
            "\n",
            "   0 2 3\n",
            "   1 8 4\n",
            "   7 6 5\n",
            "\n",
            "   1 2 3\n",
            "   0 8 4\n",
            "   7 6 5\n",
            "\n",
            "   1 2 3\n",
            "   8 0 4\n",
            "   7 6 5\n",
            "\n",
            "Steps to reach goal: 6\n",
            "Total nodes visited:  11 \n",
            "\n"
          ]
        }
      ]
    }
  ]
}