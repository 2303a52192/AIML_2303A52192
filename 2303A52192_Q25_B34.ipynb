{
  "nbformat": 4,
  "nbformat_minor": 0,
  "metadata": {
    "colab": {
      "provenance": [],
      "authorship_tag": "ABX9TyNZz9bUYgAzth9dDqj34T6C",
      "include_colab_link": true
    },
    "kernelspec": {
      "name": "python3",
      "display_name": "Python 3"
    },
    "language_info": {
      "name": "python"
    }
  },
  "cells": [
    {
      "cell_type": "markdown",
      "metadata": {
        "id": "view-in-github",
        "colab_type": "text"
      },
      "source": [
        "<a href=\"https://colab.research.google.com/github/2303a52192/AIML_2303A52192/blob/main/2303A52192_Q25_B34.ipynb\" target=\"_parent\"><img src=\"https://colab.research.google.com/assets/colab-badge.svg\" alt=\"Open In Colab\"/></a>"
      ]
    },
    {
      "cell_type": "markdown",
      "source": [
        "Prediction of south Indian travel Destinations using holiday data"
      ],
      "metadata": {
        "id": "7Laxneyppxox"
      }
    },
    {
      "cell_type": "code",
      "execution_count": null,
      "metadata": {
        "id": "1dH-RZSNmdXe"
      },
      "outputs": [],
      "source": [
        "import pandas as pd\n",
        "import numpy as np\n",
        "from sklearn.cluster import KMeans\n",
        "from sklearn.preprocessing import StandardScaler\n",
        "\n",
        "\n",
        "df = pd.read_csv('/content/buddymove+data+set.zip')\n",
        "\n",
        "\n"
      ]
    },
    {
      "cell_type": "markdown",
      "source": [
        "1. Identify the top 5 attributes for South India destinations"
      ],
      "metadata": {
        "id": "_bPYzztJqC-T"
      }
    },
    {
      "cell_type": "code",
      "source": [
        "numeric_df = df.select_dtypes(include=np.number)\n",
        "\n",
        "top_5_attributes = numeric_df.mean().sort_values(ascending=False).head(5)\n",
        "print(\"Top 5 attributes for South India destinations:\")\n",
        "print(top_5_attributes)"
      ],
      "metadata": {
        "colab": {
          "base_uri": "https://localhost:8080/"
        },
        "id": "Q3-qM-SyoAv9",
        "outputId": "2c8a0b67-64a7-4a0a-9b70-8d7409546c0a"
      },
      "execution_count": null,
      "outputs": [
        {
          "output_type": "stream",
          "name": "stdout",
          "text": [
            "Top 5 attributes for South India destinations:\n",
            "Nature       124.518072\n",
            "Picnic       120.401606\n",
            "Theatre      116.377510\n",
            "Shopping     112.638554\n",
            "Religious    109.779116\n",
            "dtype: float64\n"
          ]
        }
      ]
    },
    {
      "cell_type": "markdown",
      "source": [
        "2. Identify the attribute with the most liked travel spots"
      ],
      "metadata": {
        "id": "rH1Q2qDLqIQV"
      }
    },
    {
      "cell_type": "code",
      "source": [
        "most_liked_attribute = top_5_attributes.idxmax()\n",
        "print(f\"\\nAttribute with the most liked travel spots: {most_liked_attribute}\")"
      ],
      "metadata": {
        "colab": {
          "base_uri": "https://localhost:8080/"
        },
        "id": "Ua_LdjgpoGbg",
        "outputId": "bb3ef7ee-07d7-4c4e-cce4-a4648d34420d"
      },
      "execution_count": null,
      "outputs": [
        {
          "output_type": "stream",
          "name": "stdout",
          "text": [
            "\n",
            "Attribute with the most liked travel spots: Nature\n"
          ]
        }
      ]
    },
    {
      "cell_type": "markdown",
      "source": [
        "3. Find the max and min attributes of choice for South India tourism"
      ],
      "metadata": {
        "id": "mO5eonhVqJ0o"
      }
    },
    {
      "cell_type": "code",
      "source": [
        "numeric_df = df.select_dtypes(include=np.number)\n",
        "\n",
        "max_min_attributes = numeric_df.mean().sort_values(ascending=False)\n",
        "print(\"\\nMax and Min attributes for South India tourism:\")\n",
        "print(f\"Max: {max_min_attributes.idxmax()} with score {max_min_attributes.max()}\")\n",
        "print(f\"Min: {max_min_attributes.idxmin()} with score {max_min_attributes.min()}\")"
      ],
      "metadata": {
        "colab": {
          "base_uri": "https://localhost:8080/"
        },
        "id": "dqKAMQn9oXkh",
        "outputId": "b3b112b4-89d2-4ffb-9343-14679791f8fe"
      },
      "execution_count": null,
      "outputs": [
        {
          "output_type": "stream",
          "name": "stdout",
          "text": [
            "\n",
            "Max and Min attributes for South India tourism:\n",
            "Max: Nature with score 124.51807228915662\n",
            "Min: Sports with score 11.987951807228916\n"
          ]
        }
      ]
    },
    {
      "cell_type": "markdown",
      "source": [
        "4. Role of beaches, theatres, malls, and parks in South India tourism"
      ],
      "metadata": {
        "id": "q042Ok3gqNwo"
      }
    },
    {
      "cell_type": "code",
      "source": [
        "print(df.columns)\n",
        "tourism_roles = df[['Sports', 'Religious', 'Nature', 'Theatre', 'Shopping', 'Picnic']].mean()\n",
        "print(\"\\nRole of beaches, theatres, malls, and parks in South India tourism:\")\n",
        "print(tourism_roles)\n",
        "\n"
      ],
      "metadata": {
        "colab": {
          "base_uri": "https://localhost:8080/"
        },
        "id": "7F-ZHR6Po53d",
        "outputId": "a109288f-ba20-4d4a-88e2-658fb54a863b"
      },
      "execution_count": null,
      "outputs": [
        {
          "output_type": "stream",
          "name": "stdout",
          "text": [
            "Index(['User Id', 'Sports', 'Religious', 'Nature', 'Theatre', 'Shopping',\n",
            "       'Picnic'],\n",
            "      dtype='object')\n",
            "\n",
            "Role of beaches, theatres, malls, and parks in South India tourism:\n",
            "Sports        11.987952\n",
            "Religious    109.779116\n",
            "Nature       124.518072\n",
            "Theatre      116.377510\n",
            "Shopping     112.638554\n",
            "Picnic       120.401606\n",
            "dtype: float64\n"
          ]
        }
      ]
    },
    {
      "cell_type": "markdown",
      "source": [
        "5. Identify the sports with the most attributes in South India"
      ],
      "metadata": {
        "id": "jq3-55FFqSta"
      }
    },
    {
      "cell_type": "code",
      "source": [
        "sports_attributes = df['Sports'].mean()\n",
        "print(f\"\\nSports score (average): {sports_attributes}\")"
      ],
      "metadata": {
        "colab": {
          "base_uri": "https://localhost:8080/"
        },
        "id": "wl4vnRrWpo78",
        "outputId": "302ddd9a-b321-4710-e16c-6dffb44b87f9"
      },
      "execution_count": null,
      "outputs": [
        {
          "output_type": "stream",
          "name": "stdout",
          "text": [
            "\n",
            "Sports score (average): 11.987951807228916\n"
          ]
        }
      ]
    },
    {
      "cell_type": "markdown",
      "source": [
        "6. Apply either Classification or Clustering Model to evaluate the dataset"
      ],
      "metadata": {
        "id": "Ww13Iq-XqWD3"
      }
    },
    {
      "cell_type": "code",
      "source": [
        "scaler = StandardScaler()\n",
        "scaled_data = scaler.fit_transform(df.iloc[:, 1:])\n",
        "\n",
        "kmeans = KMeans(n_clusters=3, random_state=42)\n",
        "clusters = kmeans.fit_predict(scaled_data)\n",
        "\n",
        "df['Cluster'] = clusters\n",
        "print(\"\\nClusters assigned to the data:\")\n",
        "print(df['Cluster'].value_counts())"
      ],
      "metadata": {
        "colab": {
          "base_uri": "https://localhost:8080/"
        },
        "id": "1YQK9jYeprgu",
        "outputId": "17d3237f-e721-40af-da94-dd60642fe160"
      },
      "execution_count": null,
      "outputs": [
        {
          "output_type": "stream",
          "name": "stdout",
          "text": [
            "\n",
            "Clusters assigned to the data:\n",
            "Cluster\n",
            "2    114\n",
            "0     79\n",
            "1     56\n",
            "Name: count, dtype: int64\n"
          ]
        }
      ]
    }
  ]
}